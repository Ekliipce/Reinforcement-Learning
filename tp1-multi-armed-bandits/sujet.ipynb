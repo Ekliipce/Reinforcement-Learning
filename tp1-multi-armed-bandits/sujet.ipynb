{
 "cells": [
  {
   "cell_type": "markdown",
   "metadata": {
    "tags": []
   },
   "source": [
    "# Introduction à l'apprentissage par renforcement\n",
    "# TP 1 - le bandit-manchot multi-bras"
   ]
  },
  {
   "cell_type": "code",
   "execution_count": 2,
   "metadata": {},
   "outputs": [],
   "source": [
    "%load_ext autoreload\n",
    "%autoreload 2\n",
    "%matplotlib inline "
   ]
  },
  {
   "cell_type": "markdown",
   "metadata": {},
   "source": [
    "# Définition des vaccins"
   ]
  },
  {
   "cell_type": "code",
   "execution_count": 3,
   "metadata": {},
   "outputs": [],
   "source": [
    "import numpy as np\n",
    "import matplotlib.pyplot as plt\n",
    "\n",
    "class ArmBernoulli:\n",
    "    def __init__(self, p: float, random_state: int = 0):\n",
    "        \"\"\"\n",
    "        Bernoulli arm\n",
    "        Args:\n",
    "             p (float): mean parameter\n",
    "             random_state (int): seed to make experiments reproducible\n",
    "        \"\"\"\n",
    "        self.mean = p\n",
    "        self.local_random = np.random.RandomState(random_state)\n",
    "        \n",
    "    def sample(self, printable = False):\n",
    "        random = self.local_random.rand()\n",
    "        \n",
    "        if printable:\n",
    "            print (f\"random: {random}, mean: {self.mean}\")\n",
    "        return random < self.mean\n",
    "\n",
    "    \n",
    "K = 5\n",
    "T = 100\n",
    "np.random.seed(1)\n",
    "means = np.random.random(K)\n",
    "MAB = [ArmBernoulli(m) for m in means]\n",
    "assert(MAB[0].mean == means[0])"
   ]
  },
  {
   "cell_type": "code",
   "execution_count": 51,
   "metadata": {},
   "outputs": [
    {
     "data": {
      "text/plain": [
       "array([4.17022005e-01, 7.20324493e-01, 1.14374817e-04, 3.02332573e-01,\n",
       "       1.46755891e-01])"
      ]
     },
     "execution_count": 51,
     "metadata": {},
     "output_type": "execute_result"
    }
   ],
   "source": [
    "means"
   ]
  },
  {
   "cell_type": "code",
   "execution_count": 52,
   "metadata": {},
   "outputs": [
    {
     "data": {
      "text/plain": [
       "[0.417022004702574,\n",
       " 0.7203244934421581,\n",
       " 0.00011437481734488664,\n",
       " 0.30233257263183977,\n",
       " 0.14675589081711304]"
      ]
     },
     "execution_count": 52,
     "metadata": {},
     "output_type": "execute_result"
    }
   ],
   "source": [
    "list(map(lambda arm: arm.mean, MAB))"
   ]
  },
  {
   "cell_type": "code",
   "execution_count": 53,
   "metadata": {},
   "outputs": [
    {
     "name": "stdout",
     "output_type": "stream",
     "text": [
      "random: 0.8773987891741196, mean: 0.417022004702574\n"
     ]
    },
    {
     "data": {
      "text/plain": [
       "False"
      ]
     },
     "execution_count": 53,
     "metadata": {},
     "output_type": "execute_result"
    }
   ],
   "source": [
    "MAB[0].sample(printable=True)"
   ]
  },
  {
   "cell_type": "markdown",
   "metadata": {},
   "source": [
    "**Vaccins :** ils sont notés $A_k\\leq K$, leur probabilité d'immunisation est $p_k = \\mu_k$.\n",
    "\n",
    "**Récompense :** 1 si le patient $t$ est immunisé et 0 sinon.\n",
    "\n",
    "**Action optimale :** choisir le vaccin $a$ avec la meilleure probabilité $a^* = \\arg\\max_{a\\leq K} \\mu_{a}$.\n",
    "\n",
    "**Regret :** $R_T =T\\mu_a^* - \\mathbb{E} \\left[ \\sum_{t=1}^T r_t \\right]$\n",
    "En notant $N_a(t)$, le nombre de fois que le vaccin $a$ a été choisi jusqu'à $t$ et $\\Delta_a = \\mu_a^* - \\mu_a$, le regret s'exprime :\n",
    "\n",
    "$$R_T = \\sum_{a=1}^K \\Delta_a \\mathbb{E} \\left[ N_{a_T} \\right]$$\n"
   ]
  },
  {
   "cell_type": "markdown",
   "metadata": {},
   "source": [
    "**Expliquez ce que signifie le regret concrètement. Pourquoi minimiser le regret donne une bonne solution au problème du bandit-manchot** <br><br>\n",
    "Le regret signifie l'accumulation de la différence entre la récompense maximale et la récompense obtenue.<br>\n",
    "Plus on avance en exploration avec une stratégie qui n'est pas la stratégie optimale plus le regret augmente.<br>\n",
    "Ainsi minimiser le regret permet de maximiser la récompense obtenue car il permet de s'orienter vers la stratégie optimale."
   ]
  },
  {
   "cell_type": "markdown",
   "metadata": {},
   "source": [
    "# Solution naive"
   ]
  },
  {
   "cell_type": "markdown",
   "metadata": {},
   "source": [
    " La solution naive consiste en 2 étapes distinctes :\n",
    "\n",
    "1. Entraînement : on teste les K vaccins sur N patients et on note leur efficacité séparemment\n",
    "2. Exploitation : le vaccin qui apparaît comme le meilleur est choisi pour les T-N patients restants.\n",
    "\n",
    "**Implémentez cet algorithme avec T=100, N=20, K=5. Quel bras a été choisi lors de la seconde phase ?**"
   ]
  },
  {
   "cell_type": "code",
   "execution_count": 80,
   "metadata": {},
   "outputs": [],
   "source": [
    "N = 20\n",
    "nb_groupe = K # here 5 \n",
    "groupe_size = int(N / nb_groupe) # here 4\n",
    "rewards = np.zeros((nb_groupe, groupe_size)) \n"
   ]
  },
  {
   "cell_type": "code",
   "execution_count": 84,
   "metadata": {},
   "outputs": [
    {
     "data": {
      "text/plain": [
       "array([[1., 0., 0., 0.],\n",
       "       [1., 1., 1., 0.],\n",
       "       [0., 0., 0., 0.],\n",
       "       [1., 0., 0., 0.],\n",
       "       [1., 0., 0., 0.]])"
      ]
     },
     "execution_count": 84,
     "metadata": {},
     "output_type": "execute_result"
    }
   ],
   "source": [
    "def compute_rewards(rewards, nb_groupe):\n",
    "    for groupe in range(nb_groupe):\n",
    "        rewards[groupe] = [MAB[groupe].sample() for i in range(groupe_size)]\n",
    "    return rewards\n",
    "\n",
    "rewards = compute_rewards(rewards, nb_groupe)\n",
    "rewards"
   ]
  },
  {
   "cell_type": "code",
   "execution_count": 85,
   "metadata": {},
   "outputs": [
    {
     "data": {
      "text/plain": [
       "array([1., 0., 0., 0., 1., 1., 1., 0., 0., 0., 0., 0., 1., 0., 0., 0., 1.,\n",
       "       0., 0., 0.])"
      ]
     },
     "execution_count": 85,
     "metadata": {},
     "output_type": "execute_result"
    }
   ],
   "source": [
    "list_vaccin = rewards.flatten()\n",
    "list_vaccin"
   ]
  },
  {
   "cell_type": "markdown",
   "metadata": {},
   "source": [
    "On estime quel vaccin produit la meilleure immunisation sur les n premiers patients :\n",
    "\n",
    "$R_𝑖 = (1/T_𝑖) \\sum_{k=0}^{n−1} X_(v_k,i) R_𝑘$\n",
    "\n",
    "On choisit le vaccin avec le meilleur (𝑅_𝑖 ) pour tous les patients suivants.\n"
   ]
  },
  {
   "cell_type": "code",
   "execution_count": 86,
   "metadata": {},
   "outputs": [
    {
     "name": "stdout",
     "output_type": "stream",
     "text": [
      "r_i = array([0.25, 0.75, 0.  , 0.25, 0.25])\n",
      "best_groupe = 1\n"
     ]
    }
   ],
   "source": [
    "r_i = rewards.mean(axis=1)\n",
    "print(f\"{r_i = }\")\n",
    "\n",
    "best_groupe = np.argmax(r_i)\n",
    "print(f\"{best_groupe = }\")"
   ]
  },
  {
   "cell_type": "markdown",
   "metadata": {},
   "source": [
    "**Obtenez-vous toujours le même résultat ? Testez l'algorithme avec une valeur de N plus faible. Qu'en concluez-vous ?** <br><br>\n",
    "Le résultat obtenu est aléatoire car on ne teste pas tous les vaccins sur tous les patients. <br>\n",
    "Plus N est faible plus le résultat est incertain du à la loi des grands nombres. <br>\n",
    "On peut conclure que le choix du vaccin après la phase d'entreinement n'est peut être pas le meilleur dépendemmment de la valeur de N. <br>"
   ]
  },
  {
   "cell_type": "markdown",
   "metadata": {},
   "source": [
    "**Tracez l'évolution du regret $r_t$ de votre algorithme en fonction du résultat obtenu avec le patient $t<T$ sur plusieurs expériences. Représentez l'évolution moyenne de ce regret sur plusieurs expériences.**"
   ]
  },
  {
   "cell_type": "code",
   "execution_count": 87,
   "metadata": {},
   "outputs": [],
   "source": [
    "def Regret_i(N, mu, list_vaccine):\n",
    "    \"\"\"\n",
    "        N : number of patients tested\n",
    "        mu : mean reward of the best vaccin\n",
    "        list_vaccine : list of rewards for each patient\n",
    "    \"\"\"\n",
    "    E = np.sum(list_vaccine) \n",
    "    return N * mu - E"
   ]
  },
  {
   "cell_type": "code",
   "execution_count": 88,
   "metadata": {},
   "outputs": [
    {
     "data": {
      "text/plain": [
       "0.7203244934421581"
      ]
     },
     "execution_count": 88,
     "metadata": {},
     "output_type": "execute_result"
    }
   ],
   "source": [
    "mu_opti = np.max(means)\n",
    "mu_opti"
   ]
  },
  {
   "cell_type": "code",
   "execution_count": 89,
   "metadata": {},
   "outputs": [],
   "source": [
    "def compute_regret(l, vaccin):\n",
    "    list_vaccin = list(l.copy())\n",
    "    r = []\n",
    "\n",
    "    ## Entrainement\n",
    "    for i in range(1, N):\n",
    "        r.append(Regret_i(i, mu_opti, list_vaccin[:i]))\n",
    "\n",
    "    ## Exploration\n",
    "    for i in range(T-N):\n",
    "        list_vaccin.append(MAB[vaccin].sample())\n",
    "        r.append(Regret_i(len(list_vaccin), mu_opti, list_vaccin[:N+i+1]))\n",
    "    return r\n"
   ]
  },
  {
   "cell_type": "code",
   "execution_count": 90,
   "metadata": {},
   "outputs": [
    {
     "data": {
      "text/plain": [
       "<matplotlib.legend.Legend at 0x22bab0c42b0>"
      ]
     },
     "execution_count": 90,
     "metadata": {},
     "output_type": "execute_result"
    },
    {
     "data": {
      "image/png": "[encoded data removed]",
      "text/plain": [
       "<Figure size 640x480 with 1 Axes>"
      ]
     },
     "metadata": {},
     "output_type": "display_data"
    }
   ],
   "source": [
    "\n",
    "regrets = []\n",
    "for i in range(K):\n",
    "    regrets.append(compute_regret(list_vaccin, i))\n",
    "    if i == best_groupe:\n",
    "        plt.plot(regrets[i], label=f\"groupe {i} (best)\")\n",
    "    else:\n",
    "        plt.plot(regrets[i],  '--', label=f\"groupe {i}\",)\n",
    "plt.xlabel(\"Number of Patient\")\n",
    "plt.ylabel(\"Regret\")    \n",
    "plt.legend()\n"
   ]
  },
  {
   "cell_type": "markdown",
   "metadata": {},
   "source": [
    "## Upper Confidence Bounds (P. Auer, 2002)"
   ]
  },
  {
   "cell_type": "markdown",
   "metadata": {},
   "source": [
    "L'action $a_t$ l'instant $t$ est donnée par : \n",
    "\n",
    "$$a_t = max_a \\left[ X_t(a) + B_t(a) \\right]$$\n",
    "\n",
    "où $X_t(a)$ est la moyenne empirique de la récompense obtenue avec le vaccin $a$ et $B_t(a)$ est un biais :\n",
    "\n",
    "$B_t(a) = \\sqrt{ \\frac{2\\log t}{T_a}}$ où $T_a$ est le nombre de fois que le vaccin $a$ a été choisi."
   ]
  },
  {
   "cell_type": "markdown",
   "metadata": {},
   "source": [
    "**Pourquoi cet algorithme n'a pas besoin d'une phase d'entraînement ? Quel terme favorise l'exploration et quel terme favorise l'exploitation ?** <bR><br>\n",
    "Upper Confidence Bounds n'a pas besoin d'une phase d'entrainement car il estime la récompense de chaque vaccin à chaque instant t. <br>\n",
    "Le terme $X_t(a)$ favorise l'exploitation car il estime la récompense moyenne du vaccin choisi. <br>\n",
    "Le terme $B_t(a)$ favorise l'exploration, il mesure l'incertitude sur la récompense moyenne de chaque vaccin.<br>\n",
    "Plus $T_a$ est grand plus $B_t(a)$ est petit et plus on exploite le vaccin a avec certitude. <br>"
   ]
  },
  {
   "cell_type": "markdown",
   "metadata": {},
   "source": [
    "**Implémentez l'algorithme et tracez l'évolution du regret à partir de cet algorithme.**"
   ]
  },
  {
   "cell_type": "code",
   "execution_count": 101,
   "metadata": {},
   "outputs": [],
   "source": [
    "def R_i_2(N, T, mu, list_vaccine, k=1):\n",
    "    \"\"\"\n",
    "        N : number of patients tested\n",
    "        T : number of times vaccin is tested\n",
    "        mu : mean reward of the best vaccin\n",
    "        list_vaccine : list of rewards for each patient\n",
    "        k : constant control of biais\n",
    "    \"\"\"\n",
    "    E = np.sum(list_vaccine)\n",
    "    biais = np.sqrt(2 * np.log(N) / T)\n",
    "    return N * mu - E + k * biais\n"
   ]
  },
  {
   "cell_type": "code",
   "execution_count": 109,
   "metadata": {},
   "outputs": [],
   "source": [
    "\n",
    "def upper_bound(T, mu_opti, K):\n",
    "    list_patient = [[]] * K\n",
    "    list_a = [10] * K\n",
    "    list_regret = []\n",
    "    list_choice = []\n",
    "    \n",
    "    for i in range(1, T):\n",
    "        a = np.argmax(list_a)\n",
    "        \n",
    "        list_patient[a].append(MAB[a].sample())\n",
    "        \n",
    "        N = i\n",
    "        T_i = len(list_patient[a])\n",
    "        regret = R_i_2(N, T_i, mu_opti, list_patient[a])\n",
    "        \n",
    "        list_a[a] = regret\n",
    "        list_regret.append(regret)\n",
    "        list_choice.append(a)\n",
    "        print(list_a)\n",
    "\n",
    "    return list_regret, list_choice\n"
   ]
  },
  {
   "cell_type": "code",
   "execution_count": 110,
   "metadata": {},
   "outputs": [
    {
     "name": "stdout",
     "output_type": "stream",
     "text": [
      "[-0.2796755065578419, 10, 10, 10, 10]\n",
      "[-0.2796755065578419, 1.2732035980420138, 10, 10, 10]\n",
      "[-0.2796755065578419, 1.2732035980420138, 2.0167819825309143, 10, 10]\n",
      "[-0.2796755065578419, 1.2732035980420138, 2.0167819825309143, 2.71385258492633, 10]\n",
      "[-0.2796755065578419, 1.2732035980420138, 2.0167819825309143, 2.71385258492633, 3.403978476083186]\n",
      "[-0.2796755065578419, 1.2732035980420138, 2.0167819825309143, 2.71385258492633, 4.0947685160002045]\n",
      "[-0.2796755065578419, 1.2732035980420138, 2.0167819825309143, 2.71385258492633, 4.787908314974127]\n",
      "[-0.2796755065578419, 1.2732035980420138, 2.0167819825309143, 2.71385258492633, 5.483609390837707]\n",
      "[-0.2796755065578419, 1.2732035980420138, 2.0167819825309143, 2.71385258492633, 6.181685156958226]\n",
      "[-0.2796755065578419, 1.2732035980420138, 2.0167819825309143, 2.71385258492633, 6.881858976863092]\n",
      "[-0.2796755065578419, 1.2732035980420138, 2.0167819825309143, 2.71385258492633, 7.583857969859292]\n",
      "[-0.2796755065578419, 1.2732035980420138, 2.0167819825309143, 2.71385258492633, 7.287439652624194]\n",
      "[-0.2796755065578419, 1.2732035980420138, 2.0167819825309143, 2.71385258492633, 6.99239640979056]\n",
      "[-0.2796755065578419, 1.2732035980420138, 2.0167819825309143, 2.71385258492633, 7.698552834775311]\n",
      "[-0.2796755065578419, 1.2732035980420138, 2.0167819825309143, 2.71385258492633, 8.4057612026879]\n",
      "[-0.2796755065578419, 1.2732035980420138, 2.0167819825309143, 2.71385258492633, 9.113896906332267]\n",
      "[-0.2796755065578419, 1.2732035980420138, 2.0167819825309143, 2.71385258492633, 9.82285443242839]\n",
      "[-0.2796755065578419, 1.2732035980420138, 2.0167819825309143, 2.71385258492633, 9.532543994306058]\n",
      "[-0.2796755065578419, 1.2732035980420138, 2.0167819825309143, 2.71385258492633, 9.242888776360056]\n",
      "[-0.2796755065578419, 1.2732035980420138, 2.0167819825309143, 2.71385258492633, 9.953822699354358]\n",
      "[-0.2796755065578419, 1.2732035980420138, 2.0167819825309143, 2.71385258492633, 10.665288612253153]\n",
      "[-0.2796755065578419, 1.2732035980420138, 2.0167819825309143, 2.71385258492633, 11.37723682723483]\n",
      "[-0.2796755065578419, 1.2732035980420138, 2.0167819825309143, 2.71385258492633, 12.08962392882915]\n",
      "[-0.2796755065578419, 1.2732035980420138, 2.0167819825309143, 2.71385258492633, 12.802411801630088]\n",
      "[-0.2796755065578419, 1.2732035980420138, 2.0167819825309143, 2.71385258492633, 13.51556683252576]\n",
      "[-0.2796755065578419, 1.2732035980420138, 2.0167819825309143, 2.71385258492633, 14.2290592527025]\n",
      "[-0.2796755065578419, 1.2732035980420138, 2.0167819825309143, 2.71385258492633, 14.942862592060772]\n",
      "[-0.2796755065578419, 1.2732035980420138, 2.0167819825309143, 2.71385258492633, 15.65695322446346]\n",
      "[-0.2796755065578419, 1.2732035980420138, 2.0167819825309143, 2.71385258492633, 16.371309986746898]\n",
      "[-0.2796755065578419, 1.2732035980420138, 2.0167819825309143, 2.71385258492633, 17.08591385793936]\n",
      "[-0.2796755065578419, 1.2732035980420138, 2.0167819825309143, 2.71385258492633, 17.800747687874228]\n",
      "[-0.2796755065578419, 1.2732035980420138, 2.0167819825309143, 2.71385258492633, 18.51579596653144]\n",
      "[-0.2796755065578419, 1.2732035980420138, 2.0167819825309143, 2.71385258492633, 19.231044627126884]\n",
      "[-0.2796755065578419, 1.2732035980420138, 2.0167819825309143, 2.71385258492633, 19.946480877299745]\n",
      "[-0.2796755065578419, 1.2732035980420138, 2.0167819825309143, 2.71385258492633, 20.66209305380189]\n",
      "[-0.2796755065578419, 1.2732035980420138, 2.0167819825309143, 2.71385258492633, 21.377870496932974]\n",
      "[-0.2796755065578419, 1.2732035980420138, 2.0167819825309143, 2.71385258492633, 22.093803441636553]\n",
      "[-0.2796755065578419, 1.2732035980420138, 2.0167819825309143, 2.71385258492633, 22.80988292271239]\n",
      "[-0.2796755065578419, 1.2732035980420138, 2.0167819825309143, 2.71385258492633, 23.526100692036362]\n",
      "[-0.2796755065578419, 1.2732035980420138, 2.0167819825309143, 2.71385258492633, 24.24244914603306]\n",
      "[-0.2796755065578419, 1.2732035980420138, 2.0167819825309143, 2.71385258492633, 24.958921261934822]\n",
      "[-0.2796755065578419, 1.2732035980420138, 2.0167819825309143, 2.71385258492633, 25.67551054159681]\n",
      "[-0.2796755065578419, 1.2732035980420138, 2.0167819825309143, 2.71385258492633, 26.392210961832106]\n",
      "[-0.2796755065578419, 1.2732035980420138, 2.0167819825309143, 2.71385258492633, 27.10901693039085]\n",
      "[-0.2796755065578419, 1.2732035980420138, 2.0167819825309143, 2.71385258492633, 27.825923246840446]\n",
      "[-0.2796755065578419, 1.2732035980420138, 2.0167819825309143, 2.71385258492633, 27.54292506771416]\n",
      "[-0.2796755065578419, 1.2732035980420138, 2.0167819825309143, 2.71385258492633, 27.260017875388016]\n",
      "[-0.2796755065578419, 1.2732035980420138, 2.0167819825309143, 2.71385258492633, 27.977197450222903]\n",
      "[-0.2796755065578419, 1.2732035980420138, 2.0167819825309143, 2.71385258492633, 28.694459845574162]\n",
      "[-0.2796755065578419, 1.2732035980420138, 2.0167819825309143, 2.71385258492633, 29.411801365325697]\n",
      "[-0.2796755065578419, 1.2732035980420138, 2.0167819825309143, 2.71385258492633, 30.129218543652044]\n",
      "[-0.2796755065578419, 1.2732035980420138, 2.0167819825309143, 2.71385258492633, 30.846708126751466]\n",
      "[-0.2796755065578419, 1.2732035980420138, 2.0167819825309143, 2.71385258492633, 31.56426705632677]\n",
      "[-0.2796755065578419, 1.2732035980420138, 2.0167819825309143, 2.71385258492633, 32.28189245461904]\n",
      "[-0.2796755065578419, 1.2732035980420138, 2.0167819825309143, 2.71385258492633, 32.999581610824386]\n",
      "[-0.2796755065578419, 1.2732035980420138, 2.0167819825309143, 2.71385258492633, 33.71733196874472]\n",
      "[-0.2796755065578419, 1.2732035980420138, 2.0167819825309143, 2.71385258492633, 34.43514111554204]\n",
      "[-0.2796755065578419, 1.2732035980420138, 2.0167819825309143, 2.71385258492633, 35.15300677148104]\n",
      "[-0.2796755065578419, 1.2732035980420138, 2.0167819825309143, 2.71385258492633, 35.87092678055897]\n",
      "[-0.2796755065578419, 1.2732035980420138, 2.0167819825309143, 2.71385258492633, 36.58889910193297]\n",
      "[-0.2796755065578419, 1.2732035980420138, 2.0167819825309143, 2.71385258492633, 37.30692180206592]\n",
      "[-0.2796755065578419, 1.2732035980420138, 2.0167819825309143, 2.71385258492633, 38.024993047520304]\n",
      "[-0.2796755065578419, 1.2732035980420138, 2.0167819825309143, 2.71385258492633, 38.74311109833769]\n",
      "[-0.2796755065578419, 1.2732035980420138, 2.0167819825309143, 2.71385258492633, 38.461274301948336]\n",
      "[-0.2796755065578419, 1.2732035980420138, 2.0167819825309143, 2.71385258492633, 39.17948108756123]\n",
      "[-0.2796755065578419, 1.2732035980420138, 2.0167819825309143, 2.71385258492633, 39.897729960990276]\n",
      "[-0.2796755065578419, 1.2732035980420138, 2.0167819825309143, 2.71385258492633, 39.61601949987702]\n",
      "[-0.2796755065578419, 1.2732035980420138, 2.0167819825309143, 2.71385258492633, 40.33434834927437]\n",
      "[-0.2796755065578419, 1.2732035980420138, 2.0167819825309143, 2.71385258492633, 41.05271521755944]\n",
      "[-0.2796755065578419, 1.2732035980420138, 2.0167819825309143, 2.71385258492633, 41.77111887264668]\n",
      "[-0.2796755065578419, 1.2732035980420138, 2.0167819825309143, 2.71385258492633, 42.4895581384757]\n",
      "[-0.2796755065578419, 1.2732035980420138, 2.0167819825309143, 2.71385258492633, 42.20803189175029]\n",
      "[-0.2796755065578419, 1.2732035980420138, 2.0167819825309143, 2.71385258492633, 42.92653905890768]\n",
      "[-0.2796755065578419, 1.2732035980420138, 2.0167819825309143, 2.71385258492633, 43.64507861329901]\n",
      "[-0.2796755065578419, 1.2732035980420138, 2.0167819825309143, 2.71385258492633, 44.36364957256372]\n",
      "[-0.2796755065578419, 1.2732035980420138, 2.0167819825309143, 2.71385258492633, 45.082250996182324]\n",
      "[-0.2796755065578419, 1.2732035980420138, 2.0167819825309143, 2.71385258492633, 45.80088198319331]\n",
      "[-0.2796755065578419, 1.2732035980420138, 2.0167819825309143, 2.71385258492633, 46.51954167006125]\n",
      "[-0.2796755065578419, 1.2732035980420138, 2.0167819825309143, 2.71385258492633, 46.238229228684474]\n",
      "[-0.2796755065578419, 1.2732035980420138, 2.0167819825309143, 2.71385258492633, 46.95694386453148]\n",
      "[-0.2796755065578419, 1.2732035980420138, 2.0167819825309143, 2.71385258492633, 47.67568481489648]\n",
      "[-0.2796755065578419, 1.2732035980420138, 2.0167819825309143, 2.71385258492633, 48.39445134726493]\n",
      "[-0.2796755065578419, 1.2732035980420138, 2.0167819825309143, 2.71385258492633, 49.11324275778122]\n",
      "[-0.2796755065578419, 1.2732035980420138, 2.0167819825309143, 2.71385258492633, 49.83205836981069]\n",
      "[-0.2796755065578419, 1.2732035980420138, 2.0167819825309143, 2.71385258492633, 50.550897532589474]\n",
      "[-0.2796755065578419, 1.2732035980420138, 2.0167819825309143, 2.71385258492633, 51.26975961995562]\n",
      "[-0.2796755065578419, 1.2732035980420138, 2.0167819825309143, 2.71385258492633, 51.988644029156]\n",
      "[-0.2796755065578419, 1.2732035980420138, 2.0167819825309143, 2.71385258492633, 52.70755017972341]\n",
      "[-0.2796755065578419, 1.2732035980420138, 2.0167819825309143, 2.71385258492633, 53.426477512419304]\n",
      "[-0.2796755065578419, 1.2732035980420138, 2.0167819825309143, 2.71385258492633, 54.145425488237436]\n",
      "[-0.2796755065578419, 1.2732035980420138, 2.0167819825309143, 2.71385258492633, 54.86439358746439]\n",
      "[-0.2796755065578419, 1.2732035980420138, 2.0167819825309143, 2.71385258492633, 55.58338130879321]\n",
      "[-0.2796755065578419, 1.2732035980420138, 2.0167819825309143, 2.71385258492633, 56.302388168486544]\n",
      "[-0.2796755065578419, 1.2732035980420138, 2.0167819825309143, 2.71385258492633, 57.02141369958605]\n",
      "[-0.2796755065578419, 1.2732035980420138, 2.0167819825309143, 2.71385258492633, 57.74045745116518]\n",
      "[-0.2796755065578419, 1.2732035980420138, 2.0167819825309143, 2.71385258492633, 58.459518987622275]\n",
      "[-0.2796755065578419, 1.2732035980420138, 2.0167819825309143, 2.71385258492633, 58.17859788801183]\n",
      "[-0.2796755065578419, 1.2732035980420138, 2.0167819825309143, 2.71385258492633, 57.89769374541111]\n",
      "[-0.2796755065578419, 1.2732035980420138, 2.0167819825309143, 2.71385258492633, 58.61680616632012]\n"
     ]
    }
   ],
   "source": [
    "list_regret, list_choice = upper_bound(T, mu_opti, K)"
   ]
  },
  {
   "cell_type": "code",
   "execution_count": 111,
   "metadata": {},
   "outputs": [
    {
     "data": {
      "text/plain": [
       "(array([ 1.,  1.,  1.,  1., 95.]),\n",
       " array([0. , 0.8, 1.6, 2.4, 3.2, 4. ]),\n",
       " <BarContainer object of 5 artists>)"
      ]
     },
     "execution_count": 111,
     "metadata": {},
     "output_type": "execute_result"
    },
    {
     "data": {
      "image/png": "[encoded data removed]",
      "text/plain": [
       "<Figure size 640x480 with 2 Axes>"
      ]
     },
     "metadata": {},
     "output_type": "display_data"
    }
   ],
   "source": [
    "plt.subplot(1, 2, 1)\n",
    "plt.plot(list_regret)\n",
    "plt.subplot(1, 2, 2)\n",
    "plt.hist(list_choice, bins=K)"
   ]
  },
  {
   "cell_type": "markdown",
   "metadata": {},
   "source": [
    "**Créez une animation avec matplotlib qui permette de visualiser l'évolution des valeurs de $(X_a)_a$ et de $(B_a)_a$ au cours du temps**\n",
    "\n",
    "Ici, c'est à vous de réfléchir à la meilleure représentation de ces valeurs."
   ]
  },
  {
   "cell_type": "markdown",
   "metadata": {},
   "source": [
    "# Echantillonnage de Thomson"
   ]
  },
  {
   "cell_type": "markdown",
   "metadata": {},
   "source": [
    "L'algorithme de Thompson calcule à chaque instant $t$ le paramètre des lois Beta pour tous les vaccins. Il échantillonne alors une probabilité de choisir chaque vaccin et choisit le vaccin avec la plus grande probabilité."
   ]
  },
  {
   "cell_type": "markdown",
   "metadata": {},
   "source": [
    "**Comment fonctionnent les lois Beta ? Comment les mettre à jour selon les résultats des vaccins ?**"
   ]
  },
  {
   "cell_type": "code",
   "execution_count": null,
   "metadata": {},
   "outputs": [],
   "source": []
  },
  {
   "cell_type": "markdown",
   "metadata": {},
   "source": [
    "**Comment se passent l'exploration et l'exploitation ?**"
   ]
  },
  {
   "cell_type": "code",
   "execution_count": null,
   "metadata": {},
   "outputs": [],
   "source": []
  },
  {
   "cell_type": "markdown",
   "metadata": {},
   "source": [
    "**Implémentez l'algorithme et tracez l'évolution du regret.**"
   ]
  },
  {
   "cell_type": "code",
   "execution_count": null,
   "metadata": {},
   "outputs": [],
   "source": []
  },
  {
   "cell_type": "markdown",
   "metadata": {},
   "source": [
    "**Créez une animation avec matplotlib qui permette de visualiser l'évolution des probabilités au cours du temps**\n",
    "\n",
    "Indice : pour représenter des probabilités, on pourra utiliser des diagrammes en violons."
   ]
  },
  {
   "cell_type": "code",
   "execution_count": null,
   "metadata": {},
   "outputs": [],
   "source": []
  }
 ],
 "metadata": {
  "kernelspec": {
   "display_name": "Python 3 (ipykernel)",
   "language": "python",
   "name": "python3"
  },
  "language_info": {
   "codemirror_mode": {
    "name": "ipython",
    "version": 3
   },
   "file_extension": ".py",
   "mimetype": "text/x-python",
   "name": "python",
   "nbconvert_exporter": "python",
   "pygments_lexer": "ipython3",
   "version": "3.10.10"
  }
 },
 "nbformat": 4,
 "nbformat_minor": 4
}
